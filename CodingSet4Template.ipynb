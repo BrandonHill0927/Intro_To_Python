{
  "cells": [
    {
      "cell_type": "markdown",
      "metadata": {
        "colab_type": "text",
        "id": "view-in-github"
      },
      "source": [
        "# Chapter **4** Coding Set\n",
        "\n",
        "**Remember to save a copy of this template BEFORE YOU START WORKING :)**\n",
        "\n",
        "Work completed by [Brandon Hill].\n",
        "\n",
        "If you start to struggle with a problem for an extended period of time, remember you can go comment on two other submissions now (seeing other student work helps), or you can post in our discussion forum for questions, which can also earn you extra credit."
      ]
    },
    {
      "cell_type": "markdown",
      "metadata": {
        "id": "V_9gU-dva4Xx"
      },
      "source": [
        "# Chapter **4** Coding Set\n",
        "\n",
        "**Remember to save a copy of this template BEFORE YOU START WORKING :)**\n",
        "\n",
        "Work completed by [student name].\n",
        "\n",
        "If you start to struggle with a problem for an extended period of time, remember you can go comment on two other submissions now (seeing other student work helps), or you can post in our discussion forum for questions, which can also earn you extra credit."
      ]
    },
    {
      "cell_type": "markdown",
      "metadata": {
        "id": "jW9S_3jcOdYt"
      },
      "source": [
        "## Imports\n",
        "\n",
        "**If your program requires additional modules, external resources, or files, use this cell to set them up**"
      ]
    },
    {
      "cell_type": "code",
      "execution_count": null,
      "metadata": {
        "id": "mYW-OioYOu3g"
      },
      "outputs": [],
      "source": [
        "# configure your environment\n",
        "\n",
        "# you can uncomment this code to make use of files stored in your Google Drive\n",
        "# from google.colab import drive\n",
        "# drive.mount('/content/drive')\n",
        "\n",
        "# you can uncomment the following line of code to use the pandas library\n",
        "# import pandas as pd"
      ]
    },
    {
      "cell_type": "markdown",
      "metadata": {
        "id": "VH4eGQyub8yQ"
      },
      "source": [
        "## Algorithm Workbench"
      ]
    },
    {
      "cell_type": "markdown",
      "metadata": {
        "id": "dBl7Q9AZcLMU"
      },
      "source": [
        "### Problem **2**\n",
        "\n",
        "#### Question Text\n",
        "\n",
        "*Paste in the question text below.*\n",
        "\n",
        "Write a loop that asks the user to enter two numbers. The numbers should be added and the sum displayed. The loop should ask the user if he or she wishes to perform the operation again. If so, the loop should repeat, otherwise it should terminate.\n",
        "\n",
        "#### High-Level Overview\n",
        "\n",
        "I began with creating the variables in which I used to calculate the sum of the numbers stored from user input. From there I went on to start a while loop that controls if the program will add another pair of numbers or end. I then went on to create a for loop that contains the gathering and processing of the user input, which later displays the sum. For the last line of code I assigned user input to the go_again variable to ensure we get the y/n on to continue or not. \n"
      ]
    },
    {
      "cell_type": "code",
      "execution_count": 10,
      "metadata": {
        "id": "k4iGFPemb26z"
      },
      "outputs": [
        {
          "name": "stdout",
          "output_type": "stream",
          "text": [
            "The sum is, 1353\n"
          ]
        }
      ],
      "source": [
        "# I create \"go_again\" as a variable so that I am able to continue or end the loop when the calculations are done. \n",
        "go_again = \"y\"\n",
        "# I create \"sum1\" as a variable to store the input for the equation.\n",
        "sum1 = 0.0\n",
        "# I do the same for num \n",
        "num = 0.0\n",
        "# I create the maximum amount of times the loop will ask for numbers to add.\n",
        "MAX = 1\n",
        "# I create a while statement to control the loop. \n",
        "while go_again ==\"y\" or go_again == \"Y\":\n",
        "    # I then create a for loop that collects and adds the numbers from the user input.\n",
        "    for counter in range(MAX):\n",
        "        # I then create a second variable to store the equation and its sum while ensuring to convert the string input into an integer.\n",
        "        num = int(input(\"Enter a number:\"))\n",
        "        # I then assign the sum1 to the same statement to ensure the second number is saved as well, \n",
        "        # while also converting to an integer to ensure the loop can add the numbers. \n",
        "        sum1 = int(input(\"Enter a number:\"))\n",
        "        # I then create sum2 to ensure the two numbers are added and their sum is saved.\n",
        "        sum2 = sum1 + num \n",
        "        # I then create a print statement to display the sum of the two numbers from user input \n",
        "    print(f\"The sum is, {sum2}\")\n",
        "# I then close off ensuring users have the option to end the program\n",
        "    go_again = input(\"Would you like to add two more numbers y/n?\")\n",
        "    "
      ]
    },
    {
      "cell_type": "markdown",
      "metadata": {
        "id": "o9xcij9hfq-5"
      },
      "source": [
        "### Problem **8**\n",
        "\n",
        "#### Question Text\n",
        "\n",
        "*Paste in the question text below.*\n",
        "\n",
        "Write code that prompts the user to enter a positive nonzero number and validates the input.\n",
        "\n",
        "#### High-Level Overview\n",
        "\n",
        "I began with assigning the variable \"num\" to the user input, which is then put through a validation while loop checking if the number entered is greater than 0. If the number is greater than zero, the program will display a statement telling the user. If the number entered is <= 0, the program will prompt the user to enter a number greater than 0. \n"
      ]
    },
    {
      "cell_type": "code",
      "execution_count": null,
      "metadata": {
        "id": "ubgUdOUTl24X"
      },
      "outputs": [
        {
          "name": "stdout",
          "output_type": "stream",
          "text": [
            "The number entered is valid\n"
          ]
        }
      ],
      "source": [
        "# I assign the variable num to input from user \n",
        "num = float(input(\"Enter a nonzero number:\"))\n",
        "# I perform the nonzero check \n",
        "while num <= 0:\n",
        "    # I prompt the user to enter a number greater than zero \n",
        "    # if the first number entered is <=0 \n",
        "    num = float(input(\"Enter a number greater than zero:\"))\n",
        "    # If the user input is >0 then a message is displayed \n",
        "    # showing that the input is valid \n",
        "print(\"The number entered is valid\")\n"
      ]
    },
    {
      "cell_type": "markdown",
      "metadata": {
        "id": "2b2z_elQf2qP"
      },
      "source": [
        "## Programming Exercises"
      ]
    },
    {
      "cell_type": "markdown",
      "metadata": {
        "id": "klCvdzHvf74V"
      },
      "source": [
        "### Problem **1**\n",
        "\n",
        "#### Question Text\n",
        "\n",
        "*Paste in the question text below.*\n",
        "\n",
        "A bug collector collects bugs every day for five days. Write a program that keeps a running total of the number of bugs collected during the five days. The loop should ask for the number of bugs collected for each day, and when the loop is finished, the program should display the total number of bugs collected.\n",
        "\n",
        "\n",
        "#### High-Level Overview\n",
        "\n",
        "I first began with establishing a max days variable to control the amount of times the loop asked for a daily bug amount however that did not work. I ran into issues with the previous days bug count saving so I changed my approach by just establishing the final total first and the bug count variables within the for loop later. \n",
        "\n"
      ]
    },
    {
      "cell_type": "code",
      "execution_count": null,
      "metadata": {
        "id": "iQooA6BWlvx5"
      },
      "outputs": [
        {
          "name": "stdout",
          "output_type": "stream",
          "text": [
            "Total bug count = 5.0\n",
            "Total bug count = 11.0\n",
            "Total bug count = 19.0\n",
            "Total bug count = 26.0\n",
            "Total bug count = 36.0\n"
          ]
        }
      ],
      "source": [
        "# I began with starting the total bug count off as 0 \n",
        "total = 0 \n",
        "# I then move into a for loop, this specific line controls the range so that we get counts for five days \n",
        "for day in range(1, 6):\n",
        "    # I then creat the bug count variable which gathers the count for each day \n",
        "    bc = float(input(f\"Enter how many bugs were collected for day {day} :\"))\n",
        "    # that variable is then added and assign to another variable created to store the total bug count over tha five days \n",
        "    total  += bc\n",
        "    # the total bug count is then printed \n",
        "    print(f\"Total bug count = {total}\")\n"
      ]
    },
    {
      "cell_type": "markdown",
      "metadata": {
        "id": "VxGugqDyxh_p"
      },
      "source": [
        "### Problem **4**\n",
        "\n",
        "#### Question Text\n",
        "\n",
        "*Paste in the question text below.*\n",
        "\n",
        "The distance a vehicle travels can be calculated as follows:\n",
        "\n",
        "distance = speed x time\n",
        "\n",
        "For example, if a train travels 40 miles per hour for three hours, the distance traveled is 120 miles. Write a program that asks the user for the speed of a vehicle (in miles per hour) and the number of hours it has traveled. It should then use a loop to display the distance the vehicle has traveled for each hour of that time period. Here is an example of the desired output:\n",
        "\n",
        "#### High-Level Overview\n",
        "\n",
        "I orginally began with creating the equation for distance over time however that prevented some variables within the equation from being established although they were established in the loop. However, I continued with the speed and time variables which were labeled, s for speed and t for time. I then created the chart requested from the question moving on to the loop where I created another variable which held the range of time for the output. I then moved the equation from the top to the bottom as that allowed the variables to be defined. "
      ]
    },
    {
      "cell_type": "code",
      "execution_count": 4,
      "metadata": {
        "id": "CCUIs3F5xhdd"
      },
      "outputs": [
        {
          "name": "stdout",
          "output_type": "stream",
          "text": [
            "Time(hour)\tDistance Traveled(miles)\n",
            "--------------------------\n",
            "1\t\t85\n",
            "2\t\t170\n",
            "3\t\t255\n",
            "4\t\t340\n",
            "5\t\t425\n",
            "6\t\t510\n",
            "7\t\t595\n",
            "8\t\t680\n",
            "9\t\t765\n",
            "10\t\t850\n",
            "11\t\t935\n",
            "12\t\t1020\n",
            "13\t\t1105\n",
            "14\t\t1190\n",
            "15\t\t1275\n"
          ]
        }
      ],
      "source": [
        "# I began to establish variables needed to store input necessary for the equation within the loop below \n",
        "s = float(input(\"What is the speed of the vehicle?\"))\n",
        "# I then do the same for time \n",
        "t = float(input(\"How long has the vehicle traveled?\"))\n",
        "# I then create the chart for the results from the equation \n",
        "print(\"Time(hour)\\tDistance Traveled(miles)\")\n",
        "# This is where I then print multiple dashes to seperate the heading of the chart from the rest of the output \n",
        "print(\"--------------------------\")\n",
        "# I then create a for loop to execute the conversion to distance \n",
        "for d2 in range(1, int(t) + 1):\n",
        "    # I then create the equation to get distance over time \n",
        "    d = int(s*d2)\n",
        "    # I finally print the results how many miles covered each hour of travel \n",
        "    print (f\"{d2}\\t\\t{d}\")"
      ]
    },
    {
      "cell_type": "markdown",
      "metadata": {
        "id": "kqfebVBKxlKj"
      },
      "source": [
        "### Problem **12**\n",
        "\n",
        "#### Question Text\n",
        "\n",
        "*Paste in the question text below.*\n",
        "\n",
        "Write a program that predicts the approximate size of a population of organisms. The application should prompt the user to enter the starting number of organisms, the average daily population increase (as a percentage), and the number of days the organisms will be left to multiply. For example, assume the user enters the following values:\n",
        "\n",
        "Starting number of organisms: 2\n",
        "\n",
        "Average daily increase: 30%\n",
        "\n",
        "Number of days to multiply: 10\n",
        "\n",
        "The program should display the following table of data:\n",
        "\n",
        "Day Approximate Population\n",
        "1 2\n",
        "2 2.6\n",
        "3 3.38\n",
        "4 4.394\n",
        "5 5.7122\n",
        "6 7.42586\n",
        "7 9.653619\n",
        "8 12.5497\n",
        "9 16.31462\n",
        "10 21.209\n",
        "\n",
        "#### High-Level Overview\n",
        "\n",
        "I began with creating my variables to get the desired output from above, starting with the start number of organisms \"start_num\". I then went on to assign the average daily increase \"inc\", and the days of multiplication \"dtm\". From there I began to create a simple chart starting with the heading, ensuring to add horizontal space so that there is a clear distinction between the rows. That is followed by a print statement of dashes to seperate the heading from the data. I then went on to the create the variable \"population\" so that I could calculate the aproximate over the specified days. That is then followed by a for loop which runs calculates the input displayed within the output. I create a range of days based on the input, then a print statement for the curren day within the range along with its approximate population. "
      ]
    },
    {
      "cell_type": "code",
      "execution_count": null,
      "metadata": {
        "id": "9yuG65pIxkQJ"
      },
      "outputs": [
        {
          "name": "stdout",
          "output_type": "stream",
          "text": [
            "Day\tApproximate Population\n",
            "------------------------------\n",
            "1\t2\n",
            "2\t2.6\n",
            "3\t3.38\n",
            "4\t4.394\n",
            "5\t5.712\n",
            "6\t7.426\n",
            "7\t9.654\n",
            "8\t12.55\n",
            "9\t16.315\n",
            "10\t21.209\n"
          ]
        }
      ],
      "source": [
        "# I create a variable that will store the starting number of organisms \n",
        "start_num = int(input(\"Starting number of organisms:(whole number)\"))\n",
        "# I then create another variable storing the average daily increase \n",
        "inc = int(input(\"Enter average daily increase:(ex-50)\"))\n",
        "# followed by the days of multiplication \n",
        "dtm = int(input(\"Enter days left to multiply:\"))\n",
        "# Here is where I began to create the heading of a chart for the output \n",
        "print(\"Day\\tApproximate Population\")\n",
        "# I then print dashes under to seperate the heading from the data within the input \n",
        "print(\"------------------------------\")\n",
        "# Followed by the creation of another variable that will help calculate each days approximate growth \n",
        "population = start_num \n",
        "# I then create a for loop begin the calcualtion and display of the output generate from the user input initialized earlier. \n",
        "for day in range(1, dtm +1):\n",
        "    # This print statement prints the specific day and its approximate population\n",
        "    print(f\"{day}\\t{round(population, 3)}\")\n",
        "    # fllowed by the equation that the for loop will use to update and display the approximate popualtion  for each day from the range created in the first line of the for loop. \n",
        "    population = population +(population*inc/100)\n",
        "\n",
        "\n",
        "\n",
        "\n"
      ]
    },
    {
      "cell_type": "markdown",
      "metadata": {
        "id": "uMknY49Txpht"
      },
      "source": [
        "### Problem **13**\n",
        "\n",
        "#### Question Text\n",
        "\n",
        "*Paste in the question text below.*\n",
        "\n",
        "Write a program that uses nested loops to draw this pattern:\n",
        "\n",
        "*******\n",
        "******\n",
        "*****\n",
        "***\n",
        "**\n",
        "*\n",
        "\n",
        "#### High-Level Overview\n",
        "\n",
        "I began with storing the base of the triangle, then moving to the outer for statement that controls the amount of rows printed, I include a -1 to ensure the loop counted backwards. From there I then went on to the inner loop which controls the amount of asterisks printed within each row ensuring to add extra spacing through print statements to ensure everythign aligned as it should have. "
      ]
    },
    {
      "cell_type": "code",
      "execution_count": 1,
      "metadata": {
        "id": "UByfwHefxpPH"
      },
      "outputs": [
        {
          "name": "stdout",
          "output_type": "stream",
          "text": [
            "* * * * * * * \n",
            "* * * * * * \n",
            "* * * * * \n",
            "* * * * \n",
            "* * * \n",
            "* * \n",
            "* \n"
          ]
        }
      ],
      "source": [
        "# This is where I establish the base size of the triangle printed above \n",
        "b = 7 \n",
        "# I then create the outer for loop that will control the amount of rows that print\n",
        "for j in range(b, 0, -1):\n",
        "    # I then create a inner loop that will control the amount of asterisks printed in each row \n",
        "    for k in range(j):\n",
        "        # I then use a print statement to ensure all of the asterisks stay within their rows \n",
        "        print(\"*\", end=\" \")\n",
        "    # Followed by another print statement which moves each number from range (j) to its own line \n",
        "    print()"
      ]
    },
    {
      "cell_type": "markdown",
      "metadata": {
        "id": "NxsN1n6_yXlW"
      },
      "source": [
        "## Helpful Checks\n",
        "\n",
        "1.   Did you comment every line of code with meaningful information that will help others reading your code?\n",
        "2.   Did you use appropriate names for your variables, functions, and/or classes?\n",
        "3.   Did you include a high-level explanation for each solution?\n",
        "4.   Did you run each cell that includes a final solution so the output is saved and easily viewed by others?\n",
        "5.   Are you sharing an editable link (i.e., Share > Anyone with the link > Editor) if using Colaboratory, or did you make more than ten commits if using GitHub?\n",
        "6.   Did you remember to comment on the submissions of two other students?"
      ]
    },
    {
      "cell_type": "code",
      "execution_count": null,
      "metadata": {
        "id": "wxzLHFoJTksu"
      },
      "outputs": [],
      "source": []
    }
  ],
  "metadata": {
    "colab": {
      "include_colab_link": true,
      "provenance": []
    },
    "kernelspec": {
      "display_name": "Python 3",
      "name": "python3"
    },
    "language_info": {
      "codemirror_mode": {
        "name": "ipython",
        "version": 3
      },
      "file_extension": ".py",
      "mimetype": "text/x-python",
      "name": "python",
      "nbconvert_exporter": "python",
      "pygments_lexer": "ipython3",
      "version": "3.11.9"
    }
  },
  "nbformat": 4,
  "nbformat_minor": 0
}
