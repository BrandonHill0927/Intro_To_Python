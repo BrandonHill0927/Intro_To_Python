{
  "cells": [
    {
      "cell_type": "markdown",
      "metadata": {
        "colab_type": "text",
        "id": "view-in-github"
      },
      "source": [
        "# Chapter **4** Coding Set\n",
        "\n",
        "**Remember to save a copy of this template BEFORE YOU START WORKING :)**\n",
        "\n",
        "Work completed by [Brandon Hill].\n",
        "\n",
        "If you start to struggle with a problem for an extended period of time, remember you can go comment on two other submissions now (seeing other student work helps), or you can post in our discussion forum for questions, which can also earn you extra credit."
      ]
    },
    {
      "cell_type": "markdown",
      "metadata": {
        "id": "V_9gU-dva4Xx"
      },
      "source": [
        "# Chapter **4** Coding Set\n",
        "\n",
        "**Remember to save a copy of this template BEFORE YOU START WORKING :)**\n",
        "\n",
        "Work completed by [student name].\n",
        "\n",
        "If you start to struggle with a problem for an extended period of time, remember you can go comment on two other submissions now (seeing other student work helps), or you can post in our discussion forum for questions, which can also earn you extra credit."
      ]
    },
    {
      "cell_type": "markdown",
      "metadata": {
        "id": "jW9S_3jcOdYt"
      },
      "source": [
        "## Imports\n",
        "\n",
        "**If your program requires additional modules, external resources, or files, use this cell to set them up**"
      ]
    },
    {
      "cell_type": "code",
      "execution_count": null,
      "metadata": {
        "id": "mYW-OioYOu3g"
      },
      "outputs": [],
      "source": [
        "# configure your environment\n",
        "\n",
        "# you can uncomment this code to make use of files stored in your Google Drive\n",
        "# from google.colab import drive\n",
        "# drive.mount('/content/drive')\n",
        "\n",
        "# you can uncomment the following line of code to use the pandas library\n",
        "# import pandas as pd"
      ]
    },
    {
      "cell_type": "markdown",
      "metadata": {
        "id": "VH4eGQyub8yQ"
      },
      "source": [
        "## Algorithm Workbench"
      ]
    },
    {
      "cell_type": "markdown",
      "metadata": {
        "id": "dBl7Q9AZcLMU"
      },
      "source": [
        "### Problem **2**\n",
        "\n",
        "#### Question Text\n",
        "\n",
        "*Paste in the question text below.*\n",
        "\n",
        "Write a loop that asks the user to enter two numbers. The numbers should be added and the sum displayed. The loop should ask the user if he or she wishes to perform the operation again. If so, the loop should repeat, otherwise it should terminate.\n",
        "\n",
        "#### High-Level Overview\n",
        "\n",
        "I began with creating the variables in which I used to calculate the sum of the numbers stored from user input. From there I went on to start a while loop that controls if the program will add another pair of numbers or end. I then went on to create a for loop that contains the gathering and processing of the user input, which later displays the sum. For the last line of code I assigned user input to the go_again variable to ensure we get the y/n on to continue or not. \n"
      ]
    },
    {
      "cell_type": "code",
      "execution_count": null,
      "metadata": {
        "id": "k4iGFPemb26z"
      },
      "outputs": [
        {
          "name": "stdout",
          "output_type": "stream",
          "text": [
            "The sum is, 1845.0\n"
          ]
        }
      ],
      "source": [
        "# I create \"go_again\" as a variable so that I am able to continue or end the loop when the calculations are done. \n",
        "go_again = \"y\"\n",
        "# I create \"sum1\" as a variable to store the input for the equation.\n",
        "sum1 = 0.0\n",
        "# I do the same for num \n",
        "num = 0.0\n",
        "# I create the maximum amount of times the loop will ask for numbers to add.\n",
        "MAX = 1\n",
        "# I create a while statement to control the loop. \n",
        "while go_again ==\"y\" or go_again == \"Y\":\n",
        "    # I then create a for loop that collects and adds the numbers from the user input.\n",
        "    for counter in range(MAX):\n",
        "        # I then create a second variable to store the equation and its sum while ensuring to convert the string input into an integer.\n",
        "        num = int(input(\"Enter a number:\"))\n",
        "        # I then assign the sum1 to the same statement to ensure the second number is saved as well, \n",
        "        # while also converting to an integer to ensure the loop can add the numbers. \n",
        "        sum1 = float(input(\"Enter a number:\"))\n",
        "        # I then create sum2 to ensure the two numbers are added and their sum is saved.\n",
        "        sum2 = sum1 + num \n",
        "        # I then create a print statement to display the sum of the two numbers from user input \n",
        "    print(f\"The sum is, {sum2}\")\n",
        "# I then close off ensuring users have the option to end the program\n",
        "    go_again = input(\"Would you like to add two more numbers y/n?\")\n",
        "    "
      ]
    },
    {
      "cell_type": "markdown",
      "metadata": {
        "id": "o9xcij9hfq-5"
      },
      "source": [
        "### Problem **?**\n",
        "\n",
        "#### Question Text\n",
        "\n",
        "*Paste in the question text below.*\n",
        "\n",
        "#### High-Level Overview\n",
        "\n",
        "*In two to three sentences at minimum, walk through your general approach to the problem and identify any particular issues you had.*"
      ]
    },
    {
      "cell_type": "code",
      "execution_count": 5,
      "metadata": {
        "id": "ubgUdOUTl24X"
      },
      "outputs": [],
      "source": [
        "# add your code to this cell\n",
        "# remember to include comments like this one for most of your code\n",
        "# remember to \"Run cell\" once you're done, excecuting your code so the output is displayed below"
      ]
    },
    {
      "cell_type": "markdown",
      "metadata": {
        "id": "2b2z_elQf2qP"
      },
      "source": [
        "## Programming Exercises"
      ]
    },
    {
      "cell_type": "markdown",
      "metadata": {
        "id": "klCvdzHvf74V"
      },
      "source": [
        "### Problem **?**\n",
        "\n",
        "#### Question Text\n",
        "\n",
        "*Paste in the question text below.*\n",
        "\n",
        "#### High-Level Overview\n",
        "\n",
        "*In two to three sentences at minimum, walk through your general approach to the problem and identify any particular issues you had.*\n"
      ]
    },
    {
      "cell_type": "code",
      "execution_count": 6,
      "metadata": {
        "id": "iQooA6BWlvx5"
      },
      "outputs": [],
      "source": [
        "# add your code to this cell\n",
        "# remember to include comments like this one for most of your code\n",
        "# remember to \"Run cell\" once you're done, excecuting your code so the output is displayed below"
      ]
    },
    {
      "cell_type": "markdown",
      "metadata": {
        "id": "VxGugqDyxh_p"
      },
      "source": [
        "### Problem **?**\n",
        "\n",
        "#### Question Text\n",
        "\n",
        "*Paste in the question text below.*\n",
        "\n",
        "#### High-Level Overview\n",
        "\n",
        "*In two to three sentences at minimum, walk through your general approach to the problem and identify any particular issues you had.*\n"
      ]
    },
    {
      "cell_type": "code",
      "execution_count": 7,
      "metadata": {
        "id": "CCUIs3F5xhdd"
      },
      "outputs": [],
      "source": [
        "# add your code to this cell\n",
        "# remember to include comments like this one for most of your code\n",
        "# remember to \"Run cell\" once you're done, excecuting your code so the output is displayed below"
      ]
    },
    {
      "cell_type": "markdown",
      "metadata": {
        "id": "kqfebVBKxlKj"
      },
      "source": [
        "### Problem **?**\n",
        "\n",
        "#### Question Text\n",
        "\n",
        "*Paste in the question text below.*\n",
        "\n",
        "#### High-Level Overview\n",
        "\n",
        "*In two to three sentences at minimum, walk through your general approach to the problem and identify any particular issues you had.*\n"
      ]
    },
    {
      "cell_type": "code",
      "execution_count": 8,
      "metadata": {
        "id": "9yuG65pIxkQJ"
      },
      "outputs": [],
      "source": [
        "# add your code to this cell\n",
        "# remember to include comments like this one for most of your code\n",
        "# remember to \"Run cell\" once you're done, excecuting your code so the output is displayed below"
      ]
    },
    {
      "cell_type": "markdown",
      "metadata": {
        "id": "uMknY49Txpht"
      },
      "source": [
        "### Problem **?**\n",
        "\n",
        "#### Question Text\n",
        "\n",
        "*Paste in the question text below.*\n",
        "\n",
        "#### High-Level Overview\n",
        "\n",
        "*In two to three sentences at minimum, walk through your general approach to the problem and identify any particular issues you had.*\n"
      ]
    },
    {
      "cell_type": "code",
      "execution_count": 9,
      "metadata": {
        "id": "UByfwHefxpPH"
      },
      "outputs": [],
      "source": [
        "# add your code to this cell\n",
        "# remember to include comments like this one for most of your code\n",
        "# remember to \"Run cell\" once you're done, excecuting your code so the output is displayed below"
      ]
    },
    {
      "cell_type": "markdown",
      "metadata": {
        "id": "NxsN1n6_yXlW"
      },
      "source": [
        "## Helpful Checks\n",
        "\n",
        "1.   Did you comment every line of code with meaningful information that will help others reading your code?\n",
        "2.   Did you use appropriate names for your variables, functions, and/or classes?\n",
        "3.   Did you include a high-level explanation for each solution?\n",
        "4.   Did you run each cell that includes a final solution so the output is saved and easily viewed by others?\n",
        "5.   Are you sharing an editable link (i.e., Share > Anyone with the link > Editor) if using Colaboratory, or did you make more than ten commits if using GitHub?\n",
        "6.   Did you remember to comment on the submissions of two other students?"
      ]
    },
    {
      "cell_type": "code",
      "execution_count": null,
      "metadata": {
        "id": "wxzLHFoJTksu"
      },
      "outputs": [],
      "source": []
    }
  ],
  "metadata": {
    "colab": {
      "include_colab_link": true,
      "provenance": []
    },
    "kernelspec": {
      "display_name": "Python 3",
      "name": "python3"
    },
    "language_info": {
      "codemirror_mode": {
        "name": "ipython",
        "version": 3
      },
      "file_extension": ".py",
      "mimetype": "text/x-python",
      "name": "python",
      "nbconvert_exporter": "python",
      "pygments_lexer": "ipython3",
      "version": "3.11.9"
    }
  },
  "nbformat": 4,
  "nbformat_minor": 0
}
